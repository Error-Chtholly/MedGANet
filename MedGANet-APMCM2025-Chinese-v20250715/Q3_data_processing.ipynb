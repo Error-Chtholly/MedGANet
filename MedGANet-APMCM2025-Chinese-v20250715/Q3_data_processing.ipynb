{
 "cells": [
  {
   "cell_type": "code",
   "execution_count": 22,
   "id": "initial_id",
   "metadata": {
    "collapsed": true,
    "ExecuteTime": {
     "end_time": "2025-07-13T03:39:04.853305800Z",
     "start_time": "2025-07-13T03:39:04.832682200Z"
    }
   },
   "outputs": [],
   "source": [
    "import numpy as np\n",
    "import pandas as pd"
   ]
  },
  {
   "cell_type": "code",
   "outputs": [
    {
     "name": "stdout",
     "output_type": "stream",
     "text": [
      "stroke 数据类型:\n",
      "age              int32\n",
      "heart_disease    int32\n",
      "dtype: object\n",
      "\n",
      "heart 数据类型:\n",
      "age              int32\n",
      "heart_disease    int32\n",
      "dtype: object\n"
     ]
    }
   ],
   "source": [
    "# 先尝试合并stroke和heart disease\n",
    "stroke = pd.read_csv('preparations/stroke_output.csv')\n",
    "heart = pd.read_csv('preparations/heart_output.csv')\n",
    "heart = heart.rename(columns={'Age': 'age', 'HeartDisease': 'heart_disease'})\n",
    "\n",
    "\n",
    "stroke['age'] = stroke['age'].astype(int)\n",
    "stroke['heart_disease'] = stroke['heart_disease'].astype(int)\n",
    "\n",
    "heart['age'] = heart['age'].astype(int)\n",
    "heart['heart_disease'] = heart['heart_disease'].astype(int)\n",
    "\n",
    "print(\"stroke 数据类型:\")\n",
    "print(stroke[['age', 'heart_disease']].dtypes)\n",
    "\n",
    "print(\"\\nheart 数据类型:\")\n",
    "print(heart[['age', 'heart_disease']].dtypes)\n",
    "\n",
    "merged_df = pd.merge(\n",
    "    stroke,\n",
    "    heart.drop_duplicates(subset=['age', 'heart_disease']),  # 避免 heart 数据重复\n",
    "    on=['age', 'heart_disease'],\n",
    "    how='inner'  # 以 stroke 为准，不匹配的填 NaN\n",
    ").reset_index(drop=True)"
   ],
   "metadata": {
    "collapsed": false,
    "ExecuteTime": {
     "end_time": "2025-07-13T03:39:04.881261300Z",
     "start_time": "2025-07-13T03:39:04.842255300Z"
    }
   },
   "id": "8803321c6d7b2a52",
   "execution_count": 23
  },
  {
   "cell_type": "code",
   "outputs": [
    {
     "data": {
      "text/plain": "   age  hypertension  heart_disease  ever_married  work_type  \\\n0   67             0              1             1        3.0   \n1   67             0              1             1        3.0   \n2   67             1              1             1        3.0   \n3   67             0              1             1        2.0   \n4   67             0              1             1        3.0   \n\n   avg_glucose_level        bmi  smoking_status  stroke  Sex  ChestPainType  \\\n0             228.69  36.600000               1       1    0              3   \n1             144.10  27.600000               0       0    0              3   \n2             254.63  31.000000               0       0    0              3   \n3              95.88  31.900000               3       0    0              3   \n4              97.24  28.893237               3       0    0              3   \n\n   RestingBP  Cholesterol  FastingBS  RestingECG  MaxHR  ExerciseAngina  \\\n0        145            0          0           2    125               0   \n1        145            0          0           2    125               0   \n2        145            0          0           2    125               0   \n3        145            0          0           2    125               0   \n4        145            0          0           2    125               0   \n\n   Oldpeak  ST_Slope  \n0      0.0         1  \n1      0.0         1  \n2      0.0         1  \n3      0.0         1  \n4      0.0         1  ",
      "text/html": "<div>\n<style scoped>\n    .dataframe tbody tr th:only-of-type {\n        vertical-align: middle;\n    }\n\n    .dataframe tbody tr th {\n        vertical-align: top;\n    }\n\n    .dataframe thead th {\n        text-align: right;\n    }\n</style>\n<table border=\"1\" class=\"dataframe\">\n  <thead>\n    <tr style=\"text-align: right;\">\n      <th></th>\n      <th>age</th>\n      <th>hypertension</th>\n      <th>heart_disease</th>\n      <th>ever_married</th>\n      <th>work_type</th>\n      <th>avg_glucose_level</th>\n      <th>bmi</th>\n      <th>smoking_status</th>\n      <th>stroke</th>\n      <th>Sex</th>\n      <th>ChestPainType</th>\n      <th>RestingBP</th>\n      <th>Cholesterol</th>\n      <th>FastingBS</th>\n      <th>RestingECG</th>\n      <th>MaxHR</th>\n      <th>ExerciseAngina</th>\n      <th>Oldpeak</th>\n      <th>ST_Slope</th>\n    </tr>\n  </thead>\n  <tbody>\n    <tr>\n      <th>0</th>\n      <td>67</td>\n      <td>0</td>\n      <td>1</td>\n      <td>1</td>\n      <td>3.0</td>\n      <td>228.69</td>\n      <td>36.600000</td>\n      <td>1</td>\n      <td>1</td>\n      <td>0</td>\n      <td>3</td>\n      <td>145</td>\n      <td>0</td>\n      <td>0</td>\n      <td>2</td>\n      <td>125</td>\n      <td>0</td>\n      <td>0.0</td>\n      <td>1</td>\n    </tr>\n    <tr>\n      <th>1</th>\n      <td>67</td>\n      <td>0</td>\n      <td>1</td>\n      <td>1</td>\n      <td>3.0</td>\n      <td>144.10</td>\n      <td>27.600000</td>\n      <td>0</td>\n      <td>0</td>\n      <td>0</td>\n      <td>3</td>\n      <td>145</td>\n      <td>0</td>\n      <td>0</td>\n      <td>2</td>\n      <td>125</td>\n      <td>0</td>\n      <td>0.0</td>\n      <td>1</td>\n    </tr>\n    <tr>\n      <th>2</th>\n      <td>67</td>\n      <td>1</td>\n      <td>1</td>\n      <td>1</td>\n      <td>3.0</td>\n      <td>254.63</td>\n      <td>31.000000</td>\n      <td>0</td>\n      <td>0</td>\n      <td>0</td>\n      <td>3</td>\n      <td>145</td>\n      <td>0</td>\n      <td>0</td>\n      <td>2</td>\n      <td>125</td>\n      <td>0</td>\n      <td>0.0</td>\n      <td>1</td>\n    </tr>\n    <tr>\n      <th>3</th>\n      <td>67</td>\n      <td>0</td>\n      <td>1</td>\n      <td>1</td>\n      <td>2.0</td>\n      <td>95.88</td>\n      <td>31.900000</td>\n      <td>3</td>\n      <td>0</td>\n      <td>0</td>\n      <td>3</td>\n      <td>145</td>\n      <td>0</td>\n      <td>0</td>\n      <td>2</td>\n      <td>125</td>\n      <td>0</td>\n      <td>0.0</td>\n      <td>1</td>\n    </tr>\n    <tr>\n      <th>4</th>\n      <td>67</td>\n      <td>0</td>\n      <td>1</td>\n      <td>1</td>\n      <td>3.0</td>\n      <td>97.24</td>\n      <td>28.893237</td>\n      <td>3</td>\n      <td>0</td>\n      <td>0</td>\n      <td>3</td>\n      <td>145</td>\n      <td>0</td>\n      <td>0</td>\n      <td>2</td>\n      <td>125</td>\n      <td>0</td>\n      <td>0.0</td>\n      <td>1</td>\n    </tr>\n  </tbody>\n</table>\n</div>"
     },
     "execution_count": 24,
     "metadata": {},
     "output_type": "execute_result"
    }
   ],
   "source": [
    "merged_df.head()"
   ],
   "metadata": {
    "collapsed": false,
    "ExecuteTime": {
     "end_time": "2025-07-13T03:39:04.892260900Z",
     "start_time": "2025-07-13T03:39:04.873260900Z"
    }
   },
   "id": "3505cc8d9a52e07c",
   "execution_count": 24
  },
  {
   "cell_type": "code",
   "outputs": [],
   "source": [
    "merged_df.to_csv('preparations/stroke_heart_merged.csv')"
   ],
   "metadata": {
    "collapsed": false,
    "ExecuteTime": {
     "end_time": "2025-07-13T03:39:04.938267900Z",
     "start_time": "2025-07-13T03:39:04.889261900Z"
    }
   },
   "id": "aaa751ed461014ee",
   "execution_count": 25
  },
  {
   "cell_type": "code",
   "outputs": [],
   "source": [
    "cirrhosis = pd.read_csv('preparations/cirrhosis_output.csv')\n",
    "\n",
    "cirrhosis = cirrhosis.rename(columns={'Age':'age'})"
   ],
   "metadata": {
    "collapsed": false,
    "ExecuteTime": {
     "end_time": "2025-07-13T03:39:04.974707800Z",
     "start_time": "2025-07-13T03:39:04.921261800Z"
    }
   },
   "id": "78dc32f626bc15b3",
   "execution_count": 26
  },
  {
   "cell_type": "code",
   "outputs": [
    {
     "data": {
      "text/plain": "   age  hypertension  heart_disease  ever_married  work_type  \\\n0   67             0              1             1        3.0   \n1   67             0              1             1        3.0   \n2   67             1              1             1        3.0   \n3   67             0              1             1        2.0   \n4   67             0              1             1        3.0   \n\n   avg_glucose_level        bmi  smoking_status  stroke  Sex  ...  Spiders  \\\n0             228.69  36.600000               1       1    0  ...      0.0   \n1             144.10  27.600000               0       0    0  ...      0.0   \n2             254.63  31.000000               0       0    0  ...      0.0   \n3              95.88  31.900000               3       0    0  ...      0.0   \n4              97.24  28.893237               3       0    0  ...      0.0   \n\n   Edema  Bilirubin  Albumin  Copper   SGOT  Tryglicerides  Platelets  \\\n0      0        2.6      3.1    94.0  56.76     124.702128      214.0   \n1      0        2.6      3.1    94.0  56.76     124.702128      214.0   \n2      0        2.6      3.1    94.0  56.76     124.702128      214.0   \n3      0        2.6      3.1    94.0  56.76     124.702128      214.0   \n4      0        2.6      3.1    94.0  56.76     124.702128      214.0   \n\n   Prothrombin  Stage  \n0         11.0    4.0  \n1         11.0    4.0  \n2         11.0    4.0  \n3         11.0    4.0  \n4         11.0    4.0  \n\n[5 rows x 33 columns]",
      "text/html": "<div>\n<style scoped>\n    .dataframe tbody tr th:only-of-type {\n        vertical-align: middle;\n    }\n\n    .dataframe tbody tr th {\n        vertical-align: top;\n    }\n\n    .dataframe thead th {\n        text-align: right;\n    }\n</style>\n<table border=\"1\" class=\"dataframe\">\n  <thead>\n    <tr style=\"text-align: right;\">\n      <th></th>\n      <th>age</th>\n      <th>hypertension</th>\n      <th>heart_disease</th>\n      <th>ever_married</th>\n      <th>work_type</th>\n      <th>avg_glucose_level</th>\n      <th>bmi</th>\n      <th>smoking_status</th>\n      <th>stroke</th>\n      <th>Sex</th>\n      <th>...</th>\n      <th>Spiders</th>\n      <th>Edema</th>\n      <th>Bilirubin</th>\n      <th>Albumin</th>\n      <th>Copper</th>\n      <th>SGOT</th>\n      <th>Tryglicerides</th>\n      <th>Platelets</th>\n      <th>Prothrombin</th>\n      <th>Stage</th>\n    </tr>\n  </thead>\n  <tbody>\n    <tr>\n      <th>0</th>\n      <td>67</td>\n      <td>0</td>\n      <td>1</td>\n      <td>1</td>\n      <td>3.0</td>\n      <td>228.69</td>\n      <td>36.600000</td>\n      <td>1</td>\n      <td>1</td>\n      <td>0</td>\n      <td>...</td>\n      <td>0.0</td>\n      <td>0</td>\n      <td>2.6</td>\n      <td>3.1</td>\n      <td>94.0</td>\n      <td>56.76</td>\n      <td>124.702128</td>\n      <td>214.0</td>\n      <td>11.0</td>\n      <td>4.0</td>\n    </tr>\n    <tr>\n      <th>1</th>\n      <td>67</td>\n      <td>0</td>\n      <td>1</td>\n      <td>1</td>\n      <td>3.0</td>\n      <td>144.10</td>\n      <td>27.600000</td>\n      <td>0</td>\n      <td>0</td>\n      <td>0</td>\n      <td>...</td>\n      <td>0.0</td>\n      <td>0</td>\n      <td>2.6</td>\n      <td>3.1</td>\n      <td>94.0</td>\n      <td>56.76</td>\n      <td>124.702128</td>\n      <td>214.0</td>\n      <td>11.0</td>\n      <td>4.0</td>\n    </tr>\n    <tr>\n      <th>2</th>\n      <td>67</td>\n      <td>1</td>\n      <td>1</td>\n      <td>1</td>\n      <td>3.0</td>\n      <td>254.63</td>\n      <td>31.000000</td>\n      <td>0</td>\n      <td>0</td>\n      <td>0</td>\n      <td>...</td>\n      <td>0.0</td>\n      <td>0</td>\n      <td>2.6</td>\n      <td>3.1</td>\n      <td>94.0</td>\n      <td>56.76</td>\n      <td>124.702128</td>\n      <td>214.0</td>\n      <td>11.0</td>\n      <td>4.0</td>\n    </tr>\n    <tr>\n      <th>3</th>\n      <td>67</td>\n      <td>0</td>\n      <td>1</td>\n      <td>1</td>\n      <td>2.0</td>\n      <td>95.88</td>\n      <td>31.900000</td>\n      <td>3</td>\n      <td>0</td>\n      <td>0</td>\n      <td>...</td>\n      <td>0.0</td>\n      <td>0</td>\n      <td>2.6</td>\n      <td>3.1</td>\n      <td>94.0</td>\n      <td>56.76</td>\n      <td>124.702128</td>\n      <td>214.0</td>\n      <td>11.0</td>\n      <td>4.0</td>\n    </tr>\n    <tr>\n      <th>4</th>\n      <td>67</td>\n      <td>0</td>\n      <td>1</td>\n      <td>1</td>\n      <td>3.0</td>\n      <td>97.24</td>\n      <td>28.893237</td>\n      <td>3</td>\n      <td>0</td>\n      <td>0</td>\n      <td>...</td>\n      <td>0.0</td>\n      <td>0</td>\n      <td>2.6</td>\n      <td>3.1</td>\n      <td>94.0</td>\n      <td>56.76</td>\n      <td>124.702128</td>\n      <td>214.0</td>\n      <td>11.0</td>\n      <td>4.0</td>\n    </tr>\n  </tbody>\n</table>\n<p>5 rows × 33 columns</p>\n</div>"
     },
     "execution_count": 27,
     "metadata": {},
     "output_type": "execute_result"
    }
   ],
   "source": [
    "cirrhosis = cirrhosis.drop_duplicates(subset=['age'])\n",
    "\n",
    "merged_df2 = pd.merge(  # 使用正确的merge函数\n",
    "    merged_df,\n",
    "    cirrhosis,\n",
    "    on='age',\n",
    "    how='inner'\n",
    ").drop_duplicates().reset_index(drop=True)  # 修正拼写\n",
    "\n",
    "merged_df2.head()"
   ],
   "metadata": {
    "collapsed": false,
    "ExecuteTime": {
     "end_time": "2025-07-13T03:39:04.979219400Z",
     "start_time": "2025-07-13T03:39:04.937267300Z"
    }
   },
   "id": "a554c3232ddb6e5b",
   "execution_count": 27
  },
  {
   "cell_type": "code",
   "outputs": [],
   "source": [
    "merged_df2.to_csv('preparations/stroke_heart_cirrhosis_merged.csv',index=False)"
   ],
   "metadata": {
    "collapsed": false,
    "ExecuteTime": {
     "end_time": "2025-07-13T03:39:05.001386700Z",
     "start_time": "2025-07-13T03:39:04.968743400Z"
    }
   },
   "id": "bcd75fc8900f36b2",
   "execution_count": 28
  }
 ],
 "metadata": {
  "kernelspec": {
   "display_name": "Python 3",
   "language": "python",
   "name": "python3"
  },
  "language_info": {
   "codemirror_mode": {
    "name": "ipython",
    "version": 2
   },
   "file_extension": ".py",
   "mimetype": "text/x-python",
   "name": "python",
   "nbconvert_exporter": "python",
   "pygments_lexer": "ipython2",
   "version": "2.7.6"
  }
 },
 "nbformat": 4,
 "nbformat_minor": 5
}
