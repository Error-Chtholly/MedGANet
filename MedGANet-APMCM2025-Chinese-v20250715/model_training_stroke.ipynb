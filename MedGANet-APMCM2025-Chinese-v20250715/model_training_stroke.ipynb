{
 "cells": [
  {
   "cell_type": "code",
   "execution_count": 5,
   "id": "initial_id",
   "metadata": {
    "collapsed": true,
    "ExecuteTime": {
     "end_time": "2025-07-12T04:43:34.864498400Z",
     "start_time": "2025-07-12T04:43:34.733724300Z"
    }
   },
   "outputs": [],
   "source": [
    "import torch\n",
    "import torch.nn as nn\n",
    "import pandas as pd\n",
    "import numpy as np\n",
    "from sklearn.preprocessing import StandardScaler\n",
    "from sklearn.model_selection import StratifiedKFold"
   ]
  },
  {
   "cell_type": "code",
   "outputs": [],
   "source": [
    "# stroke, 需要附上TeLU的公式\n",
    "class TeLU(nn.Module):\n",
    "    \n",
    "    def __int__(self,alpha = 0.15):\n",
    "        super(TeLU,self).__init__()\n",
    "        self.alpha = alpha\n",
    "        \n",
    "    def forward(self,x):\n",
    "        return torch.where(x >= 0, x, self.alpha * (torch.exp(x) - 1))\n",
    "\n",
    "class FFNN(nn.Module):\n",
    "    \n",
    "    def __init__(self,input_size):\n",
    "        super(FFNN,self).__init__()\n",
    "        self.fc1 = nn.Linear(input_size,32)\n",
    "        self.telu1 = TeLU(alpha = 0.15)\n",
    "        self.fc2 = nn.Linear(32,64)\n",
    "        self.telu2 = TeLU(alpha = 0.1)\n",
    "        self.fc3 = nn.Linear(64,2)\n",
    "        \n",
    "    def forward(self,x):\n",
    "        x = self.fc1(x)\n",
    "        x = self.telu1(x)\n",
    "        x = self.fc2(x)\n",
    "        x = self.telu2(x)\n",
    "        x = self.fc3(x)\n",
    "        return x\n",
    "    \n",
    "class FocalLoss(nn.Module):\n",
    "    def __init__(self, alpha=0.25, gamma=2):\n",
    "        super(FocalLoss, self).__init__()\n",
    "        self.alpha = alpha\n",
    "        self.gamma = gamma\n",
    "    def forward(self, inputs, targets):\n",
    "        BCE_loss = nn.CrossEntropyLoss(reduction='none')(inputs, targets)\n",
    "        pt = torch.exp(-BCE_loss)\n",
    "        F_loss = self.alpha * (1-pt)**self.gamma * BCE_loss\n",
    "        return F_loss.mean()"
   ],
   "metadata": {
    "collapsed": false,
    "ExecuteTime": {
     "end_time": "2025-07-12T04:43:34.878957Z",
     "start_time": "2025-07-12T04:43:34.871917200Z"
    }
   },
   "id": "c6294602e441c774",
   "execution_count": 7
  },
  {
   "cell_type": "code",
   "outputs": [
    {
     "data": {
      "text/plain": "    age  hypertension  heart_disease  ever_married  work_type  \\\n0  67.0             0              1             1        3.0   \n1  61.0             0              0             1        2.0   \n2  80.0             0              1             1        3.0   \n3  49.0             0              0             1        3.0   \n4  79.0             1              0             1        2.0   \n\n   avg_glucose_level        bmi  smoking_status  stroke  \n0             228.69  36.600000               1       1  \n1             202.21  28.893237               0       1  \n2             105.92  32.500000               0       1  \n3             171.23  34.400000               2       1  \n4             174.12  24.000000               0       1  ",
      "text/html": "<div>\n<style scoped>\n    .dataframe tbody tr th:only-of-type {\n        vertical-align: middle;\n    }\n\n    .dataframe tbody tr th {\n        vertical-align: top;\n    }\n\n    .dataframe thead th {\n        text-align: right;\n    }\n</style>\n<table border=\"1\" class=\"dataframe\">\n  <thead>\n    <tr style=\"text-align: right;\">\n      <th></th>\n      <th>age</th>\n      <th>hypertension</th>\n      <th>heart_disease</th>\n      <th>ever_married</th>\n      <th>work_type</th>\n      <th>avg_glucose_level</th>\n      <th>bmi</th>\n      <th>smoking_status</th>\n      <th>stroke</th>\n    </tr>\n  </thead>\n  <tbody>\n    <tr>\n      <th>0</th>\n      <td>67.0</td>\n      <td>0</td>\n      <td>1</td>\n      <td>1</td>\n      <td>3.0</td>\n      <td>228.69</td>\n      <td>36.600000</td>\n      <td>1</td>\n      <td>1</td>\n    </tr>\n    <tr>\n      <th>1</th>\n      <td>61.0</td>\n      <td>0</td>\n      <td>0</td>\n      <td>1</td>\n      <td>2.0</td>\n      <td>202.21</td>\n      <td>28.893237</td>\n      <td>0</td>\n      <td>1</td>\n    </tr>\n    <tr>\n      <th>2</th>\n      <td>80.0</td>\n      <td>0</td>\n      <td>1</td>\n      <td>1</td>\n      <td>3.0</td>\n      <td>105.92</td>\n      <td>32.500000</td>\n      <td>0</td>\n      <td>1</td>\n    </tr>\n    <tr>\n      <th>3</th>\n      <td>49.0</td>\n      <td>0</td>\n      <td>0</td>\n      <td>1</td>\n      <td>3.0</td>\n      <td>171.23</td>\n      <td>34.400000</td>\n      <td>2</td>\n      <td>1</td>\n    </tr>\n    <tr>\n      <th>4</th>\n      <td>79.0</td>\n      <td>1</td>\n      <td>0</td>\n      <td>1</td>\n      <td>2.0</td>\n      <td>174.12</td>\n      <td>24.000000</td>\n      <td>0</td>\n      <td>1</td>\n    </tr>\n  </tbody>\n</table>\n</div>"
     },
     "execution_count": 8,
     "metadata": {},
     "output_type": "execute_result"
    }
   ],
   "source": [
    "data = pd.read_csv('preparations/stroke_output.csv')\n",
    "\n",
    "data.head()\n",
    "# 标准化，还需要处理不平衡集的问题\n",
    "def train_test_split(X,y, splits = 10, epochs = 500, batch_size = 512, lr = 0.001):\n",
    "    \n",
    "    k_fold_10 = StratifiedKFold(X,y,n_splits= 10,shuffle=True,random_state=2025, patience=20, model_save_path = 'best_model_stroke.pth')\n",
    "    result = []\n",
    "    for fold, (train_idx, val_idx) in enumerate(k_fold.split(X, y)):\n",
    "        print(f'\\nFold {fold+1}/{splits}')\n",
    "        \n",
    "        # Split data\n",
    "        X_train, X_val = X[train_idx], X[val_idx]\n",
    "        y_train, y_val = y[train_idx], y[val_idx]\n",
    "        \n",
    "        # Standardize\n",
    "        scaler = StandardScaler()\n",
    "        X_train = scaler.fit_transform(X_train)\n",
    "        X_val = scaler.transform(X_val)\n",
    "        \n",
    "        \n",
    "        "
   ],
   "metadata": {
    "collapsed": false,
    "ExecuteTime": {
     "end_time": "2025-07-12T04:43:34.900276300Z",
     "start_time": "2025-07-12T04:43:34.880461400Z"
    }
   },
   "id": "c88dcab3f8528e10",
   "execution_count": 8
  }
 ],
 "metadata": {
  "kernelspec": {
   "display_name": "Python 3",
   "language": "python",
   "name": "python3"
  },
  "language_info": {
   "codemirror_mode": {
    "name": "ipython",
    "version": 2
   },
   "file_extension": ".py",
   "mimetype": "text/x-python",
   "name": "python",
   "nbconvert_exporter": "python",
   "pygments_lexer": "ipython2",
   "version": "2.7.6"
  }
 },
 "nbformat": 4,
 "nbformat_minor": 5
}
